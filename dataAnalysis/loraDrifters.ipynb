{
 "cells": [
  {
   "cell_type": "markdown",
   "metadata": {},
   "source": [
    "### Alter the following parameters to provide different graphs below"
   ]
  },
  {
   "cell_type": "code",
   "execution_count": null,
   "metadata": {},
   "outputs": [],
   "source": [
    "tests_dir = \"../tests/\"\n",
    "# test_dir = tests_dir + \"test_1_8_11_2021/\" # change this to the folder you want displayed\n",
    "# test_dir = tests_dir + \"test_21_12_2021/\"\n",
    "test_dir = tests_dir + \"test_18_1_2022/\"\n"
   ]
  },
  {
   "cell_type": "code",
   "execution_count": null,
   "metadata": {},
   "outputs": [],
   "source": [
    "import json\n",
    "\n",
    "def get_meta(test_dir):\n",
    "    with open(test_dir + 'meta.json', 'r') as f:\n",
    "        return json.load(f)\n",
    "\n",
    "meta = get_meta(test_dir)\n",
    "\n",
    "start_time = meta[\"start_time\"]\n",
    "end_time = meta[\"end_time\"] #TODO: using a time greater than 10 breaks comparison\n",
    "using_mesh = meta[\"using_mesh\"]\n",
    "frequency = meta[\"frequency\"]"
   ]
  },
  {
   "cell_type": "code",
   "execution_count": null,
   "metadata": {},
   "outputs": [],
   "source": [
    "from os import listdir\n",
    "from os.path import isfile, join\n",
    "\n",
    "# get all servant drifter files\n",
    "def get_file_name_list(test_dir):\n",
    "    return [test_dir + f for f in listdir(test_dir) if isfile(join(test_dir, f)) and 'svt' in f]\n",
    "\n",
    "file_name_list = get_file_name_list(test_dir)\n",
    "print(file_name_list)\n",
    "\n",
    "# get names of drifters from file names\n",
    "def get_drifter_names(file_name_list):\n",
    "    idxOfName = file_name_list[0].index('D')\n",
    "    return [n[idxOfName : idxOfName + 3] for n in file_name_list]\n",
    "\n",
    "drifter_names = get_drifter_names(file_name_list)"
   ]
  },
  {
   "cell_type": "markdown",
   "metadata": {},
   "source": [
    "### Importing Data"
   ]
  },
  {
   "cell_type": "code",
   "execution_count": null,
   "metadata": {},
   "outputs": [],
   "source": [
    "import os, csv\n",
    "import matplotlib.pyplot as plt\n",
    "import pandas as pd"
   ]
  },
  {
   "cell_type": "code",
   "execution_count": null,
   "metadata": {},
   "outputs": [],
   "source": [
    "def read_from_CSV(file_name, frequency, start_time, end_time):\n",
    "  data = []\n",
    "  with open(file_name, 'r', newline='') as csvfile:\n",
    "      csv_reader = csv.reader(csvfile, quoting=csv.QUOTE_ALL)\n",
    "      for idx, row in enumerate(csv_reader):\n",
    "          if len(row) == 0:\n",
    "              continue\n",
    "          else:\n",
    "              if '#FILE ERASED AT' not in row:\n",
    "                  if idx != 0:\n",
    "                      if idx % frequency == 0:\n",
    "                          if row[1] > start_time and row[1] < end_time:\n",
    "                              if len(row) == 21:\n",
    "                                  row.pop()\n",
    "                              data.append(row)\n",
    "      csvfile.close()\n",
    "      return data"
   ]
  },
  {
   "cell_type": "code",
   "execution_count": null,
   "metadata": {},
   "outputs": [],
   "source": [
    "def make_drifter_list(file_name_list, frequency, start_time, end_time, using_mesh=False):\n",
    "  drifter_list = [None] * len(file_name_list)\n",
    "  for idx, file_name in enumerate(file_name_list):\n",
    "    data = read_from_CSV(file_name, frequency, start_time, end_time)\n",
    "    if not using_mesh:\n",
    "      drifter_list[idx] = pd.DataFrame(data, columns=['Date', 'Time', 'Longitude', 'Latitude', 'GPS Age'])\n",
    "    # else:\n",
    "      # drifter_list[idx] = pd.DataFrame(data, columns=['Date', 'Time', 'Longitude', 'Latitude', 'GPS Age', 'Sent',\n",
    "      # 'Received', 'Master','D01', 'D02','D03','D04','D05','D06','D07'])\n",
    "    else:\n",
    "      drifter_list[idx] = pd.DataFrame(data, columns=['Date', 'Time', 'Longitude', 'Latitude', 'GPS Age', 'Battery',\n",
    "      'Sent', 'Received', 'Master', 'D00', 'D01', 'D02','D03','D04','D05','D06','D07', 'D08', 'D09', 'D10'])\n",
    "  for df in drifter_list:\n",
    "    print(df.head())\n",
    "  return drifter_list\n",
    "\n",
    "drifter_list = make_drifter_list(file_name_list, frequency, start_time, end_time, using_mesh)"
   ]
  },
  {
   "cell_type": "markdown",
   "metadata": {},
   "source": [
    "### Calculating local velocities"
   ]
  },
  {
   "cell_type": "code",
   "execution_count": null,
   "metadata": {},
   "outputs": [],
   "source": [
    "import math\n",
    "from datetime import datetime\n",
    "\n",
    "# Same as TinyGPS library calculation\n",
    "def get_distance(lat1, lon1, lat2, lon2):\n",
    "    delta = math.radians(lon1 - lon2)\n",
    "    sdlong = math.sin(delta)\n",
    "    cdlong = math.cos(delta)\n",
    "    lat1 = math.radians(lat1)\n",
    "    lat2 = math.radians(lat2)\n",
    "    slat1 = math.sin(lat1)\n",
    "    clat1 = math.cos(lat1)\n",
    "    slat2 = math.sin(lat2)\n",
    "    clat2 = math.cos(lat2)\n",
    "    delta = (clat1 * slat2) - (slat1 * clat2 * cdlong)\n",
    "    delta = delta ** 2\n",
    "    delta += (clat2 * sdlong) ** 2\n",
    "    delta = math.sqrt(delta)\n",
    "    denom = (slat1 * slat2) + (clat1 * clat2 * cdlong)\n",
    "    delta = math.atan2(delta, denom)\n",
    "    return delta * 6372795"
   ]
  },
  {
   "cell_type": "code",
   "execution_count": null,
   "metadata": {},
   "outputs": [],
   "source": [
    "def split_time_from_df(drifter, using_mesh=False):\n",
    "  drifter_stamps = []\n",
    "  for ii in range(len(drifter) - 1):\n",
    "    # print(drifter_stamps)\n",
    "    date_stamp = drifter.Date[ii]\n",
    "    if not using_mesh:\n",
    "      new_date_stamp = date_stamp.split('/')\n",
    "    else:\n",
    "      new_date_stamp = date_stamp.split('-')\n",
    "    timestamp = drifter.Time[ii]\n",
    "    new_timestamp = timestamp.split(':')\n",
    "    drifter_stamps.append([*new_date_stamp, *new_timestamp])\n",
    "  return drifter_stamps"
   ]
  },
  {
   "cell_type": "code",
   "execution_count": null,
   "metadata": {},
   "outputs": [],
   "source": [
    "# def calc_overall_local_currents(drifter_list, drifter_names):\n",
    "#   drifter_stamps = split_time_from_df(drifter_list[0], using_mesh)\n",
    "#   start_time_stamps = list(map(int, drifter_stamps[0]))\n",
    "#   end_time_stamps = list(map(int, drifter_stamps[-1]))\n",
    "#   start_time = datetime(start_time_stamps[2], start_time_stamps[1], start_time_stamps[0], start_time_stamps[3], start_time_stamps[4], start_time_stamps[5])\n",
    "#   end_time = datetime(end_time_stamps[2], end_time_stamps[1], end_time_stamps[0], end_time_stamps[3], end_time_stamps[4], end_time_stamps[5])\n",
    "#   time_delta_s = (end_time - start_time).total_seconds()\n",
    "#   print('Total drift time')\n",
    "#   print(time_delta_s, 's\\n')\n",
    "#   for idx, drifter in enumerate(drifter_list):\n",
    "#     lat_1 = float(drifter.Latitude[0])\n",
    "#     lon_1 = float(drifter.Longitude[0])\n",
    "#     lat_2 = float(drifter.Latitude[len(drifter) - 1])\n",
    "#     lon_2 = float(drifter.Longitude[len(drifter) - 1])\n",
    "  \n",
    "#     print(drifter_names[idx])\n",
    "#     dist = get_distance(lat_1, lon_1, lat_2, lon_2)\n",
    "#     print(\"Total distance: \", dist, 'm')\n",
    "#     velocity = dist/time_delta_s\n",
    "#     print(\"Velocity: \", velocity, 'm/s')\n",
    "\n",
    "# calc_overall_local_currents(drifter_list, drifter_names)"
   ]
  },
  {
   "cell_type": "code",
   "execution_count": null,
   "metadata": {},
   "outputs": [],
   "source": [
    "def get_time_delta_start_to_end(drifter_stamps):\n",
    "    stamp = drifter_stamps[0]\n",
    "    stamp = list(map(int, stamp))\n",
    "    stamp_2 = drifter_stamps[len(drifter_stamps) - 1]\n",
    "    stamp_2 = list(map(int, stamp_2))\n",
    "    if not using_mesh:\n",
    "        start_time = datetime(stamp[2], stamp[1], stamp[0], stamp[3], stamp[4], stamp[5])\n",
    "        end_time = datetime(stamp_2[2], stamp_2[1], stamp_2[0], stamp_2[3], stamp_2[4], stamp_2[5])\n",
    "    else:\n",
    "        start_time = datetime(stamp[0], stamp[1], stamp[2], stamp[3], stamp[4], stamp[5])\n",
    "        end_time = datetime(stamp_2[0], stamp_2[1], stamp_2[2], stamp_2[3], stamp_2[4], stamp_2[5])\n",
    "    return (end_time - start_time).total_seconds()\n",
    "\n",
    "def get_time_delta(drifter_stamps, ii):\n",
    "    stamp = drifter_stamps[ii]\n",
    "    stamp = list(map(int, stamp))\n",
    "    stamp_2 = drifter_stamps[ii + 1]\n",
    "    stamp_2 = list(map(int, stamp_2))\n",
    "    if not using_mesh:\n",
    "        start_time = datetime(stamp[2], stamp[1], stamp[0], stamp[3], stamp[4], stamp[5])\n",
    "        end_time = datetime(stamp_2[2], stamp_2[1], stamp_2[0], stamp_2[3], stamp_2[4], stamp_2[5])\n",
    "    else:\n",
    "        start_time = datetime(stamp[0], stamp[1], stamp[2], stamp[3], stamp[4], stamp[5])\n",
    "        end_time = datetime(stamp_2[0], stamp_2[1], stamp_2[2], stamp_2[3], stamp_2[4], stamp_2[5])\n",
    "    return (end_time - start_time).total_seconds()"
   ]
  },
  {
   "cell_type": "code",
   "execution_count": null,
   "metadata": {},
   "outputs": [],
   "source": [
    "def calc_individual_local_currents(drifter_list, drifter_names, using_mesh=False):\n",
    "    for drifter in drifter_list:\n",
    "        velocity_list = []\n",
    "        drifter_stamps = split_time_from_df(drifter, using_mesh)\n",
    "        for ii in range(len(drifter_stamps) - 1):\n",
    "            time_delta_s = get_time_delta(drifter_stamps, ii)\n",
    "            lat_1 = float(drifter.Latitude[ii])\n",
    "            lon_1 = float(drifter.Longitude[ii])\n",
    "            lat_2 = float(drifter.Latitude[ii + 1])\n",
    "            lon_2 = float(drifter.Longitude[ii + 1])\n",
    "            dist = get_distance(lat_1, lon_1, lat_2, lon_2)\n",
    "            # print('Distance:', dist, 'm')\n",
    "            velocity = dist / time_delta_s\n",
    "            velocity_list.append(velocity)\n",
    "        yield velocity_list\n",
    "\n",
    "currents_velocities = calc_individual_local_currents(drifter_list, drifter_names, using_mesh)"
   ]
  },
  {
   "cell_type": "code",
   "execution_count": null,
   "metadata": {},
   "outputs": [],
   "source": [
    "import matplotlib.pyplot as plt\n",
    "from matplotlib.pyplot import figure\n",
    "\n",
    "def plot_local_velocities(currents_velocities, drifter_names):\n",
    "    fig = plt.figure(figsize=(16,8))\n",
    "    \n",
    "    fig.suptitle(\"\"\"Local Velocities\\n\\n\"\"\", fontweight =\"bold\") \n",
    "    for idx, curr in enumerate(currents_velocities):\n",
    "        plt.plot(curr, label=drifter_names[idx])\n",
    "        plt.ylabel('Velocity (m/s)')\n",
    "        plt.xlabel('Time Frequency')\n",
    "        plt.legend()\n",
    "    fig.show()\n",
    "\n",
    "plot_local_velocities(currents_velocities, drifter_names)"
   ]
  },
  {
   "cell_type": "code",
   "execution_count": null,
   "metadata": {},
   "outputs": [],
   "source": [
    "def get_times_from_start(drifter):\n",
    "    drifter_stamps = split_time_from_df(drifter, using_mesh)\n",
    "    return get_time_delta_start_to_end(drifter_stamps)\n",
    "\n",
    "def get_battery_consumption(drifter_list, time_since_start_s):\n",
    "    for drifter in drifter_list:\n",
    "        batt_start = (float)(drifter.Battery[0])\n",
    "        batt_last = (float)(drifter.Battery[len(drifter.Battery) - 1])\n",
    "        yield (batt_start - batt_last) / time_since_start_s\n",
    "\n",
    "# consumption starts at %/sec\n",
    "def output_battery_consumption(consumption):\n",
    "    print(f\"{consumption:.4f}% per second\")\n",
    "    print(f\"{consumption * 60:.4f}% per minute\")\n",
    "    print(f\"{consumption * 60 * 60:.4f}% per hour\")\n",
    "\n",
    "time_since_start_s = get_times_from_start(drifter_list[0])\n",
    "battery_consumptions = get_battery_consumption(drifter_list, time_since_start_s)\n",
    "\n",
    "for consumption in battery_consumptions:\n",
    "    output_battery_consumption(consumption)"
   ]
  },
  {
   "cell_type": "markdown",
   "metadata": {},
   "source": [
    "### Plotting GPS locations"
   ]
  },
  {
   "cell_type": "code",
   "execution_count": null,
   "metadata": {},
   "outputs": [],
   "source": [
    "import folium\n",
    "\n",
    "swan_coordinates = [-31.9976045, 115.8226236] # good coordinates for swan river test 1\n",
    "farm_coordinates = [-33.9316144, 115.1822156] # remove these later\n",
    "glendalough_coords = [-31.919785,115.8111968] # remove these later\n",
    "\n",
    "coords = glendalough_coords\n",
    "\n",
    "swan_map = folium.Map(location=coords, zoom_start=13)\n",
    "\n",
    "# using frequency defined at top of notebook\n",
    "# Many points causes map to lag a great deal\n",
    "def add_markers_to_map(map, drifter_list, drifter_names, with_radius=False):\n",
    "    colour_list = ['blue', 'orange', 'gray', 'green', 'lightblue', 'lightgray', 'lightred', 'darkred', 'darkgreen',\n",
    "        'purple', 'lightgreen', 'red', 'pink', 'beige', 'black', 'darkpurple', 'darkblue', 'white', 'cadetblue']\n",
    "    for idx, drifter in enumerate(drifter_list):\n",
    "        for ii in range(len(drifter.Longitude)):\n",
    "            folium.Marker(\n",
    "                location=[drifter.Latitude[ii], drifter.Longitude[ii]],\n",
    "                popup=f\"<stong>Pos: {ii} </stong>\",\n",
    "                icon=folium.Icon(icon=\"none\", color=colour_list[idx]),\n",
    "                tooltip=drifter_names[idx]).add_to(map)\n",
    "            if with_radius:\n",
    "                folium.Circle([drifter.Latitude[ii], drifter.Longitude[ii]],\n",
    "                    color=colour_list[idx],\n",
    "                    radius=2000).add_to(map)\n",
    "        map.add_child(folium.LatLngPopup())\n",
    "    return map\n",
    "\n",
    "swan_map_w_markers = add_markers_to_map(swan_map, drifter_list, drifter_names, True)\n",
    "swan_map_w_markers"
   ]
  },
  {
   "cell_type": "code",
   "execution_count": null,
   "metadata": {},
   "outputs": [],
   "source": []
  }
 ],
 "metadata": {
  "interpreter": {
   "hash": "aee8b7b246df8f9039afb4144a1f6fd8d2ca17a180786b69acc140d282b71a49"
  },
  "kernelspec": {
   "display_name": "Python 3.6.1 64-bit",
   "language": "python",
   "name": "python3"
  },
  "language_info": {
   "codemirror_mode": {
    "name": "ipython",
    "version": 3
   },
   "file_extension": ".py",
   "mimetype": "text/x-python",
   "name": "python",
   "nbconvert_exporter": "python",
   "pygments_lexer": "ipython3",
   "version": "3.7.3"
  },
  "orig_nbformat": 4
 },
 "nbformat": 4,
 "nbformat_minor": 2
}
