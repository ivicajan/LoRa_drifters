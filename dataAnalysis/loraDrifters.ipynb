{
 "cells": [
  {
   "cell_type": "markdown",
   "metadata": {},
   "source": [
    "## Alter the following parameters to provide different graphs below\n",
    "#### Ensure that the relevant csv files have been added"
   ]
  },
  {
   "cell_type": "code",
   "execution_count": 3,
   "metadata": {},
   "outputs": [],
   "source": [
    "file_dir = \"../test_1_8_11_2021/\"\n",
    "file_name_list = [file_dir + \"svtD01.csv\", file_dir + \"svtD02.csv\"]\n",
    "drifter_names = ['D01', 'D02']\n",
    "frequency = 30\n",
    "start_time = \"1:56:00\" # +8 -> 9:56 AM\n",
    "end_time = \"2:48:00\" # +8 -> 10:48 AM"
   ]
  },
  {
   "cell_type": "code",
   "execution_count": 4,
   "metadata": {},
   "outputs": [],
   "source": [
    "import os, csv\n",
    "import matplotlib.pyplot as plt\n",
    "import pandas as pd"
   ]
  },
  {
   "cell_type": "code",
   "execution_count": 5,
   "metadata": {},
   "outputs": [],
   "source": [
    "def read_from_CSV(file_name, frequency, start_time, end_time):\n",
    "  data = []\n",
    "  with open(file_name, 'r', newline='') as csvfile:\n",
    "    csv_reader = csv.reader(csvfile,quoting=csv.QUOTE_ALL)\n",
    "    for idx, row in enumerate(csv_reader):\n",
    "      if '#FILE ERASED AT' not in row:\n",
    "        if idx != 0:\n",
    "          if(idx % frequency == 0):\n",
    "            if(row[1] > start_time and row[1] < end_time):\n",
    "              data.append(row)\n",
    "    csvfile.close()\n",
    "    return data"
   ]
  },
  {
   "cell_type": "code",
   "execution_count": 6,
   "metadata": {},
   "outputs": [
    {
     "ename": "FileNotFoundError",
     "evalue": "[Errno 2] No such file or directory: 'svtD01.csv'",
     "output_type": "error",
     "traceback": [
      "\u001b[0;31m---------------------------------------------------------------------------\u001b[0m",
      "\u001b[0;31mFileNotFoundError\u001b[0m                         Traceback (most recent call last)",
      "\u001b[0;32m<ipython-input-6-bcfef5821487>\u001b[0m in \u001b[0;36m<module>\u001b[0;34m\u001b[0m\n\u001b[1;32m      1\u001b[0m \u001b[0mdfs\u001b[0m \u001b[0;34m=\u001b[0m \u001b[0;34m[\u001b[0m\u001b[0;32mNone\u001b[0m\u001b[0;34m]\u001b[0m \u001b[0;34m*\u001b[0m \u001b[0;36m2\u001b[0m\u001b[0;34m\u001b[0m\u001b[0;34m\u001b[0m\u001b[0m\n\u001b[1;32m      2\u001b[0m \u001b[0;32mfor\u001b[0m \u001b[0midx\u001b[0m\u001b[0;34m,\u001b[0m \u001b[0mfile_name\u001b[0m \u001b[0;32min\u001b[0m \u001b[0menumerate\u001b[0m\u001b[0;34m(\u001b[0m\u001b[0mfile_name_list\u001b[0m\u001b[0;34m)\u001b[0m\u001b[0;34m:\u001b[0m\u001b[0;34m\u001b[0m\u001b[0;34m\u001b[0m\u001b[0m\n\u001b[0;32m----> 3\u001b[0;31m   \u001b[0mdata\u001b[0m \u001b[0;34m=\u001b[0m \u001b[0mread_from_CSV\u001b[0m\u001b[0;34m(\u001b[0m\u001b[0mfile_name\u001b[0m\u001b[0;34m,\u001b[0m \u001b[0mfrequency\u001b[0m\u001b[0;34m,\u001b[0m \u001b[0mstart_time\u001b[0m\u001b[0;34m,\u001b[0m \u001b[0mend_time\u001b[0m\u001b[0;34m)\u001b[0m\u001b[0;34m\u001b[0m\u001b[0;34m\u001b[0m\u001b[0m\n\u001b[0m\u001b[1;32m      4\u001b[0m   \u001b[0mdfs\u001b[0m\u001b[0;34m[\u001b[0m\u001b[0midx\u001b[0m\u001b[0;34m]\u001b[0m \u001b[0;34m=\u001b[0m \u001b[0mpd\u001b[0m\u001b[0;34m.\u001b[0m\u001b[0mDataFrame\u001b[0m\u001b[0;34m(\u001b[0m\u001b[0mdata\u001b[0m\u001b[0;34m,\u001b[0m \u001b[0mcolumns\u001b[0m\u001b[0;34m=\u001b[0m\u001b[0;34m[\u001b[0m\u001b[0;34m'Date'\u001b[0m\u001b[0;34m,\u001b[0m \u001b[0;34m'Time'\u001b[0m\u001b[0;34m,\u001b[0m \u001b[0;34m'Longitude'\u001b[0m\u001b[0;34m,\u001b[0m \u001b[0;34m'Latitude'\u001b[0m\u001b[0;34m,\u001b[0m \u001b[0;34m'GPS Age'\u001b[0m\u001b[0;34m]\u001b[0m\u001b[0;34m)\u001b[0m\u001b[0;34m\u001b[0m\u001b[0;34m\u001b[0m\u001b[0m\n\u001b[1;32m      5\u001b[0m \u001b[0;34m\u001b[0m\u001b[0m\n",
      "\u001b[0;32m<ipython-input-5-450ec149ecaf>\u001b[0m in \u001b[0;36mread_from_CSV\u001b[0;34m(file_name, frequency, start_time, end_time)\u001b[0m\n\u001b[1;32m      1\u001b[0m \u001b[0;32mdef\u001b[0m \u001b[0mread_from_CSV\u001b[0m\u001b[0;34m(\u001b[0m\u001b[0mfile_name\u001b[0m\u001b[0;34m,\u001b[0m \u001b[0mfrequency\u001b[0m\u001b[0;34m,\u001b[0m \u001b[0mstart_time\u001b[0m\u001b[0;34m,\u001b[0m \u001b[0mend_time\u001b[0m\u001b[0;34m)\u001b[0m\u001b[0;34m:\u001b[0m\u001b[0;34m\u001b[0m\u001b[0;34m\u001b[0m\u001b[0m\n\u001b[1;32m      2\u001b[0m   \u001b[0mdata\u001b[0m \u001b[0;34m=\u001b[0m \u001b[0;34m[\u001b[0m\u001b[0;34m]\u001b[0m\u001b[0;34m\u001b[0m\u001b[0;34m\u001b[0m\u001b[0m\n\u001b[0;32m----> 3\u001b[0;31m   \u001b[0;32mwith\u001b[0m \u001b[0mopen\u001b[0m\u001b[0;34m(\u001b[0m\u001b[0mfile_name\u001b[0m\u001b[0;34m,\u001b[0m \u001b[0;34m'r'\u001b[0m\u001b[0;34m,\u001b[0m \u001b[0mnewline\u001b[0m\u001b[0;34m=\u001b[0m\u001b[0;34m''\u001b[0m\u001b[0;34m)\u001b[0m \u001b[0;32mas\u001b[0m \u001b[0mcsvfile\u001b[0m\u001b[0;34m:\u001b[0m\u001b[0;34m\u001b[0m\u001b[0;34m\u001b[0m\u001b[0m\n\u001b[0m\u001b[1;32m      4\u001b[0m     \u001b[0mcsv_reader\u001b[0m \u001b[0;34m=\u001b[0m \u001b[0mcsv\u001b[0m\u001b[0;34m.\u001b[0m\u001b[0mreader\u001b[0m\u001b[0;34m(\u001b[0m\u001b[0mcsvfile\u001b[0m\u001b[0;34m,\u001b[0m\u001b[0mquoting\u001b[0m\u001b[0;34m=\u001b[0m\u001b[0mcsv\u001b[0m\u001b[0;34m.\u001b[0m\u001b[0mQUOTE_ALL\u001b[0m\u001b[0;34m)\u001b[0m\u001b[0;34m\u001b[0m\u001b[0;34m\u001b[0m\u001b[0m\n\u001b[1;32m      5\u001b[0m     \u001b[0;32mfor\u001b[0m \u001b[0midx\u001b[0m\u001b[0;34m,\u001b[0m \u001b[0mrow\u001b[0m \u001b[0;32min\u001b[0m \u001b[0menumerate\u001b[0m\u001b[0;34m(\u001b[0m\u001b[0mcsv_reader\u001b[0m\u001b[0;34m)\u001b[0m\u001b[0;34m:\u001b[0m\u001b[0;34m\u001b[0m\u001b[0;34m\u001b[0m\u001b[0m\n",
      "\u001b[0;31mFileNotFoundError\u001b[0m: [Errno 2] No such file or directory: 'svtD01.csv'"
     ]
    }
   ],
   "source": [
    "dfs = [None] * 2\n",
    "for idx, file_name in enumerate(file_name_list):\n",
    "  data = read_from_CSV(file_name, frequency, start_time, end_time)\n",
    "  dfs[idx] = pd.DataFrame(data, columns=['Date', 'Time', 'Longitude', 'Latitude', 'GPS Age'])\n",
    "\n",
    "for df in dfs:\n",
    "  print(df.head())\n",
    "  \n",
    "drifter_list = dfs"
   ]
  },
  {
   "cell_type": "code",
   "execution_count": null,
   "metadata": {},
   "outputs": [],
   "source": [
    "import math\n",
    "from datetime import datetime\n",
    "\n",
    "# same as TinyGPS lib calc\n",
    "def getDistance(lat1, lon1, lat2, lon2):\n",
    "    delta = math.radians(lon1-lon2)\n",
    "    sdlong = math.sin(delta)\n",
    "    cdlong = math.cos(delta)\n",
    "    lat1 = math.radians(lat1)\n",
    "    lat2 = math.radians(lat2)\n",
    "    slat1 = math.sin(lat1)\n",
    "    clat1 = math.cos(lat1)\n",
    "    slat2 = math.sin(lat2)\n",
    "    clat2 = math.cos(lat2)\n",
    "    delta = (clat1 * slat2) - (slat1 * clat2 * cdlong)\n",
    "    delta = delta ** 2\n",
    "    delta += (clat2 * sdlong) ** 2\n",
    "    delta = math.sqrt(delta)\n",
    "    denom = (slat1 * slat2) + (clat1 * clat2 * cdlong)\n",
    "    delta = math.atan2(delta, denom)\n",
    "    return delta * 6372795"
   ]
  },
  {
   "cell_type": "code",
   "execution_count": null,
   "metadata": {},
   "outputs": [],
   "source": [
    "def split_time_from_df(drifter):\n",
    "  drifter_stamps = []\n",
    "  for ii in range(len(drifter) - 1):\n",
    "    date_stamp = df.Date[ii]\n",
    "    new_date_stamp = date_stamp.split('/')\n",
    "\n",
    "    timestamp = df.Time[ii]\n",
    "    new_timestamp = timestamp.split(':')\n",
    "    drifter_stamps.append([*new_date_stamp, *new_timestamp])\n",
    "  return drifter_stamps"
   ]
  },
  {
   "cell_type": "code",
   "execution_count": 7,
   "metadata": {},
   "outputs": [
    {
     "ename": "NameError",
     "evalue": "name 'drifter_list' is not defined",
     "output_type": "error",
     "traceback": [
      "\u001b[0;31m---------------------------------------------------------------------------\u001b[0m",
      "\u001b[0;31mNameError\u001b[0m                                 Traceback (most recent call last)",
      "\u001b[0;32m<ipython-input-7-a56f16ecf082>\u001b[0m in \u001b[0;36m<module>\u001b[0;34m\u001b[0m\n\u001b[1;32m     17\u001b[0m       \u001b[0mprint\u001b[0m\u001b[0;34m(\u001b[0m\u001b[0;34m\"Velocity: \"\u001b[0m\u001b[0;34m,\u001b[0m \u001b[0mvelocity\u001b[0m\u001b[0;34m,\u001b[0m \u001b[0;34m'm/s'\u001b[0m\u001b[0;34m)\u001b[0m\u001b[0;34m\u001b[0m\u001b[0;34m\u001b[0m\u001b[0m\n\u001b[1;32m     18\u001b[0m \u001b[0;34m\u001b[0m\u001b[0m\n\u001b[0;32m---> 19\u001b[0;31m \u001b[0mcalc_overall_local_currents\u001b[0m\u001b[0;34m(\u001b[0m\u001b[0mdrifter_list\u001b[0m\u001b[0;34m,\u001b[0m \u001b[0mdrifter_names\u001b[0m\u001b[0;34m)\u001b[0m\u001b[0;34m\u001b[0m\u001b[0;34m\u001b[0m\u001b[0m\n\u001b[0m",
      "\u001b[0;31mNameError\u001b[0m: name 'drifter_list' is not defined"
     ]
    }
   ],
   "source": [
    "def calc_overall_local_currents(drifter_list, drifter_names):\n",
    "    start_time = datetime(2021, 11, 8, 1, 56, 0)           # \"1:56:00\" +8 -> 9:56 AM\n",
    "    end_time = datetime(2021, 11, 8, 2, 48, 0)             # \"2:48:00\" +8 -> 10:48 AM\n",
    "    time_delta_s = (end_time - start_time).total_seconds()\n",
    "    print('Total drift time')\n",
    "    print(time_delta_s, 's\\n')\n",
    "    for idx, drifter in enumerate(drifter_list):\n",
    "      lat_1 = float(drifter.Latitude[0])\n",
    "      lon_1 = float(drifter.Longitude[0])\n",
    "      lat_2 = float(drifter.Latitude[len(drifter) - 1])\n",
    "      lon_2 = float(drifter.Longitude[len(drifter) - 1])\n",
    "    \n",
    "      print(drifter_names[idx])\n",
    "      dist = getDistance(lat_1, lon_1, lat_2, lon_2)\n",
    "      print(\"Total distance: \", dist, 'm')\n",
    "      velocity = dist/time_delta_s\n",
    "      print(\"Velocity: \", velocity, 'm/s')\n",
    "\n",
    "calc_overall_local_currents(drifter_list, drifter_names)"
   ]
  },
  {
   "cell_type": "code",
   "execution_count": null,
   "metadata": {},
   "outputs": [],
   "source": [
    "def calc_individual_local_currents(drifter_list, drifter_names):\n",
    "    for idx, drifter in enumerate(drifter_list):\n",
    "      velocity_list = []\n",
    "      drifter_stamps = split_time_from_df(drifter)\n",
    "      for ii in range(len(drifter_stamps) - 1):\n",
    "        stamp = drifter_stamps[ii]\n",
    "        stamp = list(map(int, stamp))\n",
    "        stamp_2 = drifter_stamps[ii + 1]\n",
    "        stamp_2 = list(map(int, stamp_2))\n",
    "        start_time = datetime(stamp[2], stamp[1], stamp[0], stamp[3], stamp[4], stamp[5])\n",
    "        end_time = datetime(stamp_2[2], stamp_2[1], stamp_2[0], stamp_2[3], stamp_2[4], stamp_2[5])\n",
    "        time_delta_s = (end_time - start_time).total_seconds()\n",
    "        lat_1 = float(drifter.Latitude[ii])\n",
    "        lon_1 = float(drifter.Longitude[ii])\n",
    "        lat_2 = float(drifter.Latitude[ii + 1])\n",
    "        lon_2 = float(drifter.Longitude[ii + 1])\n",
    "      \n",
    "        dist = getDistance(lat_1, lon_1, lat_2, lon_2)\n",
    "        # print('Distance:', dist, 'm')\n",
    "        velocity = dist/time_delta_s\n",
    "        velocity_list.append(velocity)\n",
    "      yield velocity_list\n",
    "  \n",
    "currents_velocities = calc_individual_local_currents(drifter_list, drifter_names)"
   ]
  },
  {
   "cell_type": "code",
   "execution_count": 8,
   "metadata": {},
   "outputs": [
    {
     "ename": "NameError",
     "evalue": "name 'currents_velocities' is not defined",
     "output_type": "error",
     "traceback": [
      "\u001b[0;31m---------------------------------------------------------------------------\u001b[0m",
      "\u001b[0;31mNameError\u001b[0m                                 Traceback (most recent call last)",
      "\u001b[0;32m<ipython-input-8-d59add3b38c2>\u001b[0m in \u001b[0;36m<module>\u001b[0;34m\u001b[0m\n\u001b[1;32m     13\u001b[0m   \u001b[0mfig\u001b[0m\u001b[0;34m.\u001b[0m\u001b[0mshow\u001b[0m\u001b[0;34m(\u001b[0m\u001b[0;34m)\u001b[0m\u001b[0;34m\u001b[0m\u001b[0;34m\u001b[0m\u001b[0m\n\u001b[1;32m     14\u001b[0m \u001b[0;34m\u001b[0m\u001b[0m\n\u001b[0;32m---> 15\u001b[0;31m \u001b[0mplot_local_velocities\u001b[0m\u001b[0;34m(\u001b[0m\u001b[0mcurrents_velocities\u001b[0m\u001b[0;34m,\u001b[0m \u001b[0mdrifter_names\u001b[0m\u001b[0;34m)\u001b[0m\u001b[0;34m\u001b[0m\u001b[0;34m\u001b[0m\u001b[0m\n\u001b[0m",
      "\u001b[0;31mNameError\u001b[0m: name 'currents_velocities' is not defined"
     ]
    }
   ],
   "source": [
    "import matplotlib.pyplot as plt\n",
    "from matplotlib.pyplot import figure\n",
    "\n",
    "def plot_local_velocities(currents_velocities, drifter_names):\n",
    "  fig = plt.figure(figsize=(16,8))\n",
    "  \n",
    "  fig.suptitle(\"\"\"Local Velocities\\n\\n\"\"\", fontweight =\"bold\") \n",
    "  for idx, curr in enumerate(currents_velocities):\n",
    "    plt.plot(curr, label=drifter_names[idx])\n",
    "    plt.ylabel('Velocity (m/s)')\n",
    "    plt.xlabel('Time Frequency')\n",
    "    plt.legend()\n",
    "  fig.show()\n",
    "\n",
    "plot_local_velocities(currents_velocities, drifter_names)"
   ]
  },
  {
   "cell_type": "code",
   "execution_count": null,
   "metadata": {},
   "outputs": [],
   "source": []
  }
 ],
 "metadata": {
  "interpreter": {
   "hash": "aee8b7b246df8f9039afb4144a1f6fd8d2ca17a180786b69acc140d282b71a49"
  },
  "kernelspec": {
   "display_name": "Python 3.6.1 64-bit",
   "language": "python",
   "name": "python3"
  },
  "language_info": {
   "codemirror_mode": {
    "name": "ipython",
    "version": 3
   },
   "file_extension": ".py",
   "mimetype": "text/x-python",
   "name": "python",
   "nbconvert_exporter": "python",
   "pygments_lexer": "ipython3",
   "version": "3.7.3"
  },
  "orig_nbformat": 4
 },
 "nbformat": 4,
 "nbformat_minor": 2
}
